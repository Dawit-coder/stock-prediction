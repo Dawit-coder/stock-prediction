{
 "cells": [
  {
   "cell_type": "code",
   "execution_count": 1,
   "id": "088a9e33-60fa-4ba4-a5ff-531f29ee727c",
   "metadata": {},
   "outputs": [],
   "source": [
    "import numpy as np \n",
    "import pandas as pd\n",
    "import yfinance as yf\n",
    "import matplotlib.pyplot as plt\n",
    "\n",
    "import torch\n",
    "import torch.nn as nn\n",
    "import torch.optim as optim\n",
    "\n",
    "from sklearn.preprocessing import StandardScaler\n",
    "from sklearn.metrics import mean_squared_error"
   ]
  },
  {
   "cell_type": "code",
   "execution_count": 2,
   "id": "1d0c496c-8be7-4938-9348-0027be900a65",
   "metadata": {},
   "outputs": [],
   "source": [
    "device = torch.device('cuda' if torch.cuda.is_available() else 'cpu')"
   ]
  },
  {
   "cell_type": "code",
   "execution_count": 3,
   "id": "e2b83cde-f61f-4c0e-9b25-f995fed28c9a",
   "metadata": {},
   "outputs": [
    {
     "name": "stderr",
     "output_type": "stream",
     "text": [
      "C:\\Users\\Dawit\\AppData\\Local\\Temp\\ipykernel_8884\\2867026071.py:2: FutureWarning: YF.download() has changed argument auto_adjust default to True\n",
      "  df = yf.download(ticker, '2020-01-01')\n",
      "[*********************100%***********************]  1 of 1 completed\n"
     ]
    }
   ],
   "source": [
    "ticker = 'AAPL'\n",
    "df = yf.download(ticker, '2020-01-01')"
   ]
  },
  {
   "cell_type": "code",
   "execution_count": 4,
   "id": "cceae946-1bee-4ea6-ac8a-45f2dc9e5608",
   "metadata": {},
   "outputs": [
    {
     "data": {
      "text/html": [
       "<div>\n",
       "<style scoped>\n",
       "    .dataframe tbody tr th:only-of-type {\n",
       "        vertical-align: middle;\n",
       "    }\n",
       "\n",
       "    .dataframe tbody tr th {\n",
       "        vertical-align: top;\n",
       "    }\n",
       "\n",
       "    .dataframe thead tr th {\n",
       "        text-align: left;\n",
       "    }\n",
       "\n",
       "    .dataframe thead tr:last-of-type th {\n",
       "        text-align: right;\n",
       "    }\n",
       "</style>\n",
       "<table border=\"1\" class=\"dataframe\">\n",
       "  <thead>\n",
       "    <tr>\n",
       "      <th>Price</th>\n",
       "      <th>Close</th>\n",
       "      <th>High</th>\n",
       "      <th>Low</th>\n",
       "      <th>Open</th>\n",
       "      <th>Volume</th>\n",
       "    </tr>\n",
       "    <tr>\n",
       "      <th>Ticker</th>\n",
       "      <th>AAPL</th>\n",
       "      <th>AAPL</th>\n",
       "      <th>AAPL</th>\n",
       "      <th>AAPL</th>\n",
       "      <th>AAPL</th>\n",
       "    </tr>\n",
       "    <tr>\n",
       "      <th>Date</th>\n",
       "      <th></th>\n",
       "      <th></th>\n",
       "      <th></th>\n",
       "      <th></th>\n",
       "      <th></th>\n",
       "    </tr>\n",
       "  </thead>\n",
       "  <tbody>\n",
       "    <tr>\n",
       "      <th>2020-01-02</th>\n",
       "      <td>72.538513</td>\n",
       "      <td>72.598892</td>\n",
       "      <td>71.292304</td>\n",
       "      <td>71.545890</td>\n",
       "      <td>135480400</td>\n",
       "    </tr>\n",
       "    <tr>\n",
       "      <th>2020-01-03</th>\n",
       "      <td>71.833305</td>\n",
       "      <td>72.594071</td>\n",
       "      <td>71.608700</td>\n",
       "      <td>71.765682</td>\n",
       "      <td>146322800</td>\n",
       "    </tr>\n",
       "    <tr>\n",
       "      <th>2020-01-06</th>\n",
       "      <td>72.405670</td>\n",
       "      <td>72.444313</td>\n",
       "      <td>70.703005</td>\n",
       "      <td>70.954181</td>\n",
       "      <td>118387200</td>\n",
       "    </tr>\n",
       "    <tr>\n",
       "      <th>2020-01-07</th>\n",
       "      <td>72.065147</td>\n",
       "      <td>72.671341</td>\n",
       "      <td>71.845369</td>\n",
       "      <td>72.415337</td>\n",
       "      <td>108872000</td>\n",
       "    </tr>\n",
       "    <tr>\n",
       "      <th>2020-01-08</th>\n",
       "      <td>73.224403</td>\n",
       "      <td>73.526295</td>\n",
       "      <td>71.768079</td>\n",
       "      <td>71.768079</td>\n",
       "      <td>132079200</td>\n",
       "    </tr>\n",
       "    <tr>\n",
       "      <th>...</th>\n",
       "      <td>...</td>\n",
       "      <td>...</td>\n",
       "      <td>...</td>\n",
       "      <td>...</td>\n",
       "      <td>...</td>\n",
       "    </tr>\n",
       "    <tr>\n",
       "      <th>2025-08-22</th>\n",
       "      <td>227.759995</td>\n",
       "      <td>229.089996</td>\n",
       "      <td>225.410004</td>\n",
       "      <td>226.169998</td>\n",
       "      <td>42477800</td>\n",
       "    </tr>\n",
       "    <tr>\n",
       "      <th>2025-08-25</th>\n",
       "      <td>227.160004</td>\n",
       "      <td>229.300003</td>\n",
       "      <td>226.229996</td>\n",
       "      <td>226.479996</td>\n",
       "      <td>30983100</td>\n",
       "    </tr>\n",
       "    <tr>\n",
       "      <th>2025-08-26</th>\n",
       "      <td>229.309998</td>\n",
       "      <td>229.490005</td>\n",
       "      <td>224.690002</td>\n",
       "      <td>226.869995</td>\n",
       "      <td>54575100</td>\n",
       "    </tr>\n",
       "    <tr>\n",
       "      <th>2025-08-27</th>\n",
       "      <td>230.490005</td>\n",
       "      <td>230.899994</td>\n",
       "      <td>228.259995</td>\n",
       "      <td>228.610001</td>\n",
       "      <td>31259500</td>\n",
       "    </tr>\n",
       "    <tr>\n",
       "      <th>2025-08-28</th>\n",
       "      <td>232.559998</td>\n",
       "      <td>233.410004</td>\n",
       "      <td>229.339996</td>\n",
       "      <td>230.820007</td>\n",
       "      <td>38045000</td>\n",
       "    </tr>\n",
       "  </tbody>\n",
       "</table>\n",
       "<p>1422 rows × 5 columns</p>\n",
       "</div>"
      ],
      "text/plain": [
       "Price            Close        High         Low        Open     Volume\n",
       "Ticker            AAPL        AAPL        AAPL        AAPL       AAPL\n",
       "Date                                                                 \n",
       "2020-01-02   72.538513   72.598892   71.292304   71.545890  135480400\n",
       "2020-01-03   71.833305   72.594071   71.608700   71.765682  146322800\n",
       "2020-01-06   72.405670   72.444313   70.703005   70.954181  118387200\n",
       "2020-01-07   72.065147   72.671341   71.845369   72.415337  108872000\n",
       "2020-01-08   73.224403   73.526295   71.768079   71.768079  132079200\n",
       "...                ...         ...         ...         ...        ...\n",
       "2025-08-22  227.759995  229.089996  225.410004  226.169998   42477800\n",
       "2025-08-25  227.160004  229.300003  226.229996  226.479996   30983100\n",
       "2025-08-26  229.309998  229.490005  224.690002  226.869995   54575100\n",
       "2025-08-27  230.490005  230.899994  228.259995  228.610001   31259500\n",
       "2025-08-28  232.559998  233.410004  229.339996  230.820007   38045000\n",
       "\n",
       "[1422 rows x 5 columns]"
      ]
     },
     "execution_count": 4,
     "metadata": {},
     "output_type": "execute_result"
    }
   ],
   "source": [
    "df"
   ]
  },
  {
   "cell_type": "code",
   "execution_count": 5,
   "id": "24cd05c6-582c-4bb8-97ce-6cff70810168",
   "metadata": {},
   "outputs": [
    {
     "data": {
      "text/plain": [
       "<Axes: xlabel='Date'>"
      ]
     },
     "execution_count": 5,
     "metadata": {},
     "output_type": "execute_result"
    },
    {
     "data": {
      "image/png": "[encoded data removed]",
      "text/plain": [
       "<Figure size 1200x1000 with 1 Axes>"
      ]
     },
     "metadata": {},
     "output_type": "display_data"
    }
   ],
   "source": [
    "df.Close.plot(figsize=(12, 10))"
   ]
  },
  {
   "cell_type": "code",
   "execution_count": 6,
   "id": "04f255ca-2e18-48f7-821b-a1e376830f78",
   "metadata": {},
   "outputs": [
    {
     "data": {
      "text/html": [
       "<div>\n",
       "<style scoped>\n",
       "    .dataframe tbody tr th:only-of-type {\n",
       "        vertical-align: middle;\n",
       "    }\n",
       "\n",
       "    .dataframe tbody tr th {\n",
       "        vertical-align: top;\n",
       "    }\n",
       "\n",
       "    .dataframe thead th {\n",
       "        text-align: right;\n",
       "    }\n",
       "</style>\n",
       "<table border=\"1\" class=\"dataframe\">\n",
       "  <thead>\n",
       "    <tr style=\"text-align: right;\">\n",
       "      <th>Ticker</th>\n",
       "      <th>AAPL</th>\n",
       "    </tr>\n",
       "    <tr>\n",
       "      <th>Date</th>\n",
       "      <th></th>\n",
       "    </tr>\n",
       "  </thead>\n",
       "  <tbody>\n",
       "    <tr>\n",
       "      <th>2020-01-02</th>\n",
       "      <td>-1.933594</td>\n",
       "    </tr>\n",
       "    <tr>\n",
       "      <th>2020-01-03</th>\n",
       "      <td>-1.949319</td>\n",
       "    </tr>\n",
       "    <tr>\n",
       "      <th>2020-01-06</th>\n",
       "      <td>-1.936556</td>\n",
       "    </tr>\n",
       "    <tr>\n",
       "      <th>2020-01-07</th>\n",
       "      <td>-1.944149</td>\n",
       "    </tr>\n",
       "    <tr>\n",
       "      <th>2020-01-08</th>\n",
       "      <td>-1.918300</td>\n",
       "    </tr>\n",
       "    <tr>\n",
       "      <th>...</th>\n",
       "      <td>...</td>\n",
       "    </tr>\n",
       "    <tr>\n",
       "      <th>2025-08-22</th>\n",
       "      <td>1.527585</td>\n",
       "    </tr>\n",
       "    <tr>\n",
       "      <th>2025-08-25</th>\n",
       "      <td>1.514206</td>\n",
       "    </tr>\n",
       "    <tr>\n",
       "      <th>2025-08-26</th>\n",
       "      <td>1.562147</td>\n",
       "    </tr>\n",
       "    <tr>\n",
       "      <th>2025-08-27</th>\n",
       "      <td>1.588459</td>\n",
       "    </tr>\n",
       "    <tr>\n",
       "      <th>2025-08-28</th>\n",
       "      <td>1.634617</td>\n",
       "    </tr>\n",
       "  </tbody>\n",
       "</table>\n",
       "<p>1422 rows × 1 columns</p>\n",
       "</div>"
      ],
      "text/plain": [
       "Ticker          AAPL\n",
       "Date                \n",
       "2020-01-02 -1.933594\n",
       "2020-01-03 -1.949319\n",
       "2020-01-06 -1.936556\n",
       "2020-01-07 -1.944149\n",
       "2020-01-08 -1.918300\n",
       "...              ...\n",
       "2025-08-22  1.527585\n",
       "2025-08-25  1.514206\n",
       "2025-08-26  1.562147\n",
       "2025-08-27  1.588459\n",
       "2025-08-28  1.634617\n",
       "\n",
       "[1422 rows x 1 columns]"
      ]
     },
     "execution_count": 6,
     "metadata": {},
     "output_type": "execute_result"
    }
   ],
   "source": [
    "scaler = StandardScaler()\n",
    "df[\"Close\"] = scaler.fit_transform(df['Close'])\n",
    "df.Close"
   ]
  },
  {
   "cell_type": "code",
   "execution_count": 7,
   "id": "8bdb04a3-6e00-42e3-aab3-044fd686d381",
   "metadata": {},
   "outputs": [],
   "source": [
    "seq_length = 30\n",
    "data = []\n",
    "\n",
    "for i in range(len(df) - seq_length):\n",
    "    data.append(df.Close[i:i+seq_length])\n",
    "data = np.array(data)\n"
   ]
  },
  {
   "cell_type": "code",
   "execution_count": 8,
   "id": "748efb9d-5944-4f7d-ab56-c4eb356ac3e3",
   "metadata": {},
   "outputs": [
    {
     "data": {
      "text/plain": [
       "array([[[-1.93359371],\n",
       "        [-1.94931866],\n",
       "        [-1.93655588],\n",
       "        ...,\n",
       "        [-1.8257873 ],\n",
       "        [-1.78481513],\n",
       "        [-1.79739298]],\n",
       "\n",
       "       [[-1.94931866],\n",
       "        [-1.93655588],\n",
       "        [-1.94414897],\n",
       "        ...,\n",
       "        [-1.78481513],\n",
       "        [-1.79739298],\n",
       "        [-1.79696104]],\n",
       "\n",
       "       [[-1.93655588],\n",
       "        [-1.94414897],\n",
       "        [-1.91829951],\n",
       "        ...,\n",
       "        [-1.79739298],\n",
       "        [-1.79696104],\n",
       "        [-1.82908003]],\n",
       "\n",
       "       ...,\n",
       "\n",
       "       [[ 1.10643532],\n",
       "        [ 1.12982209],\n",
       "        [ 1.12670374],\n",
       "        ...,\n",
       "        [ 1.46381136],\n",
       "        [ 1.52758457],\n",
       "        [ 1.51420578]],\n",
       "\n",
       "       [[ 1.12982209],\n",
       "        [ 1.12670374],\n",
       "        [ 1.15254027],\n",
       "        ...,\n",
       "        [ 1.52758457],\n",
       "        [ 1.51420578],\n",
       "        [ 1.56214703]],\n",
       "\n",
       "       [[ 1.12670374],\n",
       "        [ 1.15254027],\n",
       "        [ 1.18149515],\n",
       "        ...,\n",
       "        [ 1.51420578],\n",
       "        [ 1.56214703],\n",
       "        [ 1.58845923]]], shape=(1392, 30, 1))"
      ]
     },
     "execution_count": 8,
     "metadata": {},
     "output_type": "execute_result"
    }
   ],
   "source": [
    "data"
   ]
  },
  {
   "cell_type": "code",
   "execution_count": 9,
   "id": "236ec29c-d943-4f53-8608-6e524330d195",
   "metadata": {},
   "outputs": [],
   "source": [
    "train_size = int(0.8 * len(data))\n",
    "\n",
    "X_train = torch.from_numpy(data[:train_size, :-1, :]).type(torch.Tensor).to(device)\n",
    "y_train = torch.from_numpy(data[:train_size, -1, :]).type(torch.Tensor).to(device)\n",
    "X_test = torch.from_numpy(data[train_size:, -1, :]).type(torch.Tensor).to(device)\n",
    "y_test = torch.from_numpy(data[train_size:, -1, :]).type(torch.Tensor).to(device)\n"
   ]
  },
  {
   "cell_type": "code",
   "execution_count": 10,
   "id": "fad66d23-624a-47f7-84b0-478f196804b1",
   "metadata": {},
   "outputs": [],
   "source": [
    "class PredictionModel(nn.Module):\n",
    "    def __init__(self, input_dim, hidden_dim, num_layers, output_dim):\n",
    "        super(PredictionModel, self).__init__()\n",
    "        self.num_layers = num_layers\n",
    "        self.hidden_dim = hidden_dim\n",
    "        self.lstm = nn.LSTM(input_dim, hidden_dim, num_layers, batch_first=True)\n",
    "        self.fc = nn.Linear(hidden_dim, output_dim)\n",
    "\n",
    "    def forward(self, x):\n",
    "        h0 = torch.zeros(self.num_layers, x.size(0), self.hidden_dim, device=device)\n",
    "        c0 = torch.zeros(self.num_layers, x.size(0), self.hidden_dim, device=device)\n",
    "\n",
    "        out, (hn, cn) = self.lstm(x, (h0.detach(), c0.detach()))\n",
    "        out = self.fc(out[:, -1, :])\n",
    "\n",
    "        return out\n",
    "    "
   ]
  },
  {
   "cell_type": "code",
   "execution_count": 11,
   "id": "5c163cc8-bb01-41e3-afdb-cbef8f0f072c",
   "metadata": {},
   "outputs": [],
   "source": [
    "model = PredictionModel(input_dim=1, hidden_dim=32, num_layers=2, output_dim=1).to(device)"
   ]
  },
  {
   "cell_type": "code",
   "execution_count": 12,
   "id": "1ad010cd-eaa8-4fe8-b7c1-9f159980a52a",
   "metadata": {},
   "outputs": [],
   "source": [
    "criterion = nn.MSELoss()\n",
    "optimizer = optim.Adam(model.parameters(), lr=0.01)"
   ]
  },
  {
   "cell_type": "code",
   "execution_count": 14,
   "id": "0ea23c78-92d1-4839-b54b-454ad2a8e11f",
   "metadata": {},
   "outputs": [
    {
     "name": "stdout",
     "output_type": "stream",
     "text": [
      "0 0.0037497873418033123\n",
      "24 0.0035828992258757353\n",
      "48 0.0035003807861357927\n",
      "72 0.0034727866295725107\n",
      "96 0.0034618903882801533\n",
      "120 0.0034550989512354136\n",
      "144 0.0034502262715250254\n",
      "168 0.0034462411422282457\n",
      "192 0.0034426122438162565\n"
     ]
    }
   ],
   "source": [
    "num_epochs = 200\n",
    "\n",
    "for i in range(num_epochs):\n",
    "    y_train_pred = model(X_train)\n",
    "\n",
    "    loss = criterion(y_train_pred, y_train)\n",
    "\n",
    "    if i % 24 == 0:\n",
    "        print(i, loss.item())\n",
    "\n",
    "    optimizer.zero_grad()\n",
    "    loss.backward()\n",
    "    optimizer.step()"
   ]
  },
  {
   "cell_type": "code",
   "execution_count": null,
   "id": "62009d36-e0e3-4a3c-8f18-403b9d76fa2b",
   "metadata": {},
   "outputs": [],
   "source": []
  },
  {
   "cell_type": "code",
   "execution_count": null,
   "id": "aeb8d781-ba04-4cd4-9956-0f6ef5b2afdc",
   "metadata": {},
   "outputs": [],
   "source": []
  },
  {
   "cell_type": "code",
   "execution_count": null,
   "id": "256504c2-1f42-4864-83ce-1dca2f872727",
   "metadata": {},
   "outputs": [],
   "source": []
  }
 ],
 "metadata": {
  "kernelspec": {
   "display_name": "Python 3 (ipykernel)",
   "language": "python",
   "name": "python3"
  },
  "language_info": {
   "codemirror_mode": {
    "name": "ipython",
    "version": 3
   },
   "file_extension": ".py",
   "mimetype": "text/x-python",
   "name": "python",
   "nbconvert_exporter": "python",
   "pygments_lexer": "ipython3",
   "version": "3.13.7"
  }
 },
 "nbformat": 4,
 "nbformat_minor": 5
}
